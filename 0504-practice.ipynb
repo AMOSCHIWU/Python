{
 "cells": [
  {
   "cell_type": "code",
   "execution_count": 1,
   "metadata": {},
   "outputs": [],
   "source": [
    "class Animal(object):\n",
    "    \n",
    "    def __init__(self):\n",
    "        print 'Animal Created'\n",
    "        \n",
    "    def whoAmI(self):\n",
    "        print \"Animal\"\n",
    "    def eat(self):\n",
    "        print \"Eating\""
   ]
  },
  {
   "cell_type": "code",
   "execution_count": 5,
   "metadata": {},
   "outputs": [],
   "source": [
    "class Dog(Animal):\n",
    "    \n",
    "    def __init__(self):\n",
    "        Animal.__init__(self)\n",
    "        print \"Dog created\"\n",
    "        \n",
    "    def whoAmI(self):\n",
    "        print 'Dog'\n",
    "    \n",
    "    def bark(self):\n",
    "        print \"woof!\""
   ]
  },
  {
   "cell_type": "code",
   "execution_count": 6,
   "metadata": {},
   "outputs": [
    {
     "name": "stdout",
     "output_type": "stream",
     "text": [
      "Animal Created\n",
      "Dog created\n"
     ]
    }
   ],
   "source": [
    "d = Dog()"
   ]
  },
  {
   "cell_type": "code",
   "execution_count": 7,
   "metadata": {},
   "outputs": [
    {
     "name": "stdout",
     "output_type": "stream",
     "text": [
      "Dog\n"
     ]
    }
   ],
   "source": [
    "d.whoAmI()"
   ]
  },
  {
   "cell_type": "code",
   "execution_count": 13,
   "metadata": {},
   "outputs": [],
   "source": [
    "class Book(object):\n",
    "    \n",
    "    def __init__(self,title,author,pages):\n",
    "        \n",
    "        print \"A book has been created\"\n",
    "        self.title = title\n",
    "        self.author = author\n",
    "        self.pages = pages\n",
    "    def __str__(self):\n",
    "        \n",
    "        return \"Title: %s, Author: %s, pages %s\" %(self.title,self.author,self.pages)\n",
    "    def __len__(self):\n",
    "        return self.pages"
   ]
  },
  {
   "cell_type": "code",
   "execution_count": 14,
   "metadata": {},
   "outputs": [
    {
     "name": "stdout",
     "output_type": "stream",
     "text": [
      "A book has been created\n"
     ]
    }
   ],
   "source": [
    "b = Book('Python',\"Jose\",100)"
   ]
  },
  {
   "cell_type": "code",
   "execution_count": 15,
   "metadata": {},
   "outputs": [
    {
     "data": {
      "text/plain": [
       "100"
      ]
     },
     "execution_count": 15,
     "metadata": {},
     "output_type": "execute_result"
    }
   ],
   "source": [
    "len(b)"
   ]
  },
  {
   "cell_type": "code",
   "execution_count": 16,
   "metadata": {},
   "outputs": [
    {
     "data": {
      "text/plain": [
       "'Python'"
      ]
     },
     "execution_count": 16,
     "metadata": {},
     "output_type": "execute_result"
    }
   ],
   "source": [
    "b.title"
   ]
  },
  {
   "cell_type": "code",
   "execution_count": 17,
   "metadata": {},
   "outputs": [],
   "source": [
    "del b"
   ]
  },
  {
   "cell_type": "code",
   "execution_count": 18,
   "metadata": {},
   "outputs": [],
   "source": [
    "import math"
   ]
  },
  {
   "cell_type": "code",
   "execution_count": 19,
   "metadata": {},
   "outputs": [
    {
     "data": {
      "text/plain": [
       "2.0"
      ]
     },
     "execution_count": 19,
     "metadata": {},
     "output_type": "execute_result"
    }
   ],
   "source": [
    "math.sqrt(4)"
   ]
  },
  {
   "cell_type": "code",
   "execution_count": 20,
   "metadata": {},
   "outputs": [],
   "source": [
    "from math import sqrt"
   ]
  },
  {
   "cell_type": "code",
   "execution_count": 21,
   "metadata": {},
   "outputs": [
    {
     "data": {
      "text/plain": [
       "2.0"
      ]
     },
     "execution_count": 21,
     "metadata": {},
     "output_type": "execute_result"
    }
   ],
   "source": [
    "sqrt(4)"
   ]
  },
  {
   "cell_type": "code",
   "execution_count": 22,
   "metadata": {},
   "outputs": [],
   "source": [
    "def fahrenheit(T):\n",
    "    return (9.0/5)*T +32"
   ]
  },
  {
   "cell_type": "code",
   "execution_count": 23,
   "metadata": {},
   "outputs": [
    {
     "data": {
      "text/plain": [
       "32.0"
      ]
     },
     "execution_count": 23,
     "metadata": {},
     "output_type": "execute_result"
    }
   ],
   "source": [
    "fahrenheit(0)"
   ]
  },
  {
   "cell_type": "code",
   "execution_count": 24,
   "metadata": {},
   "outputs": [],
   "source": [
    "temp = [0,22.5,40,100]"
   ]
  },
  {
   "cell_type": "code",
   "execution_count": 25,
   "metadata": {},
   "outputs": [
    {
     "data": {
      "text/plain": [
       "[32.0, 72.5, 104.0, 212.0]"
      ]
     },
     "execution_count": 25,
     "metadata": {},
     "output_type": "execute_result"
    }
   ],
   "source": [
    "map(fahrenheit,temp)"
   ]
  },
  {
   "cell_type": "code",
   "execution_count": 26,
   "metadata": {},
   "outputs": [
    {
     "data": {
      "text/plain": [
       "[32.0, 72.5, 104.0, 212.0]"
      ]
     },
     "execution_count": 26,
     "metadata": {},
     "output_type": "execute_result"
    }
   ],
   "source": [
    "map (lambda T: (9.0/5)*T +32,temp)"
   ]
  },
  {
   "cell_type": "code",
   "execution_count": 27,
   "metadata": {},
   "outputs": [
    {
     "data": {
      "text/plain": [
       "<function __main__.<lambda>>"
      ]
     },
     "execution_count": 27,
     "metadata": {},
     "output_type": "execute_result"
    }
   ],
   "source": [
    "lambda x,y: x+y"
   ]
  },
  {
   "cell_type": "code",
   "execution_count": 28,
   "metadata": {},
   "outputs": [],
   "source": [
    "a = [1,2,3]\n",
    "b = [4,5,6]\n",
    "c = [7,8,9]"
   ]
  },
  {
   "cell_type": "code",
   "execution_count": 29,
   "metadata": {},
   "outputs": [
    {
     "data": {
      "text/plain": [
       "[12, 15, 18]"
      ]
     },
     "execution_count": 29,
     "metadata": {},
     "output_type": "execute_result"
    }
   ],
   "source": [
    "map(lambda x,y,z: x+y+z, a,b,c)"
   ]
  },
  {
   "cell_type": "code",
   "execution_count": 31,
   "metadata": {},
   "outputs": [
    {
     "data": {
      "text/plain": [
       "[-1, -2, -3]"
      ]
     },
     "execution_count": 31,
     "metadata": {},
     "output_type": "execute_result"
    }
   ],
   "source": [
    "map(lambda num: num*-1,a)"
   ]
  },
  {
   "cell_type": "code",
   "execution_count": 32,
   "metadata": {},
   "outputs": [
    {
     "data": {
      "text/plain": [
       "113"
      ]
     },
     "execution_count": 32,
     "metadata": {},
     "output_type": "execute_result"
    }
   ],
   "source": [
    "lst = [47,11,42,13]\n",
    "reduce(lambda x,y:x+y,lst)"
   ]
  },
  {
   "cell_type": "code",
   "execution_count": 33,
   "metadata": {},
   "outputs": [
    {
     "data": {
      "text/plain": [
       "47"
      ]
     },
     "execution_count": 33,
     "metadata": {},
     "output_type": "execute_result"
    }
   ],
   "source": [
    "max(lst)"
   ]
  },
  {
   "cell_type": "code",
   "execution_count": 34,
   "metadata": {},
   "outputs": [],
   "source": [
    "max_find = lambda a,b: a if (a>b) else b"
   ]
  },
  {
   "cell_type": "code",
   "execution_count": 35,
   "metadata": {},
   "outputs": [],
   "source": [
    "def max_find(a,b):\n",
    "    if a > b:\n",
    "        return a\n",
    "    else:\n",
    "        return b"
   ]
  },
  {
   "cell_type": "code",
   "execution_count": 36,
   "metadata": {},
   "outputs": [
    {
     "data": {
      "text/plain": [
       "100"
      ]
     },
     "execution_count": 36,
     "metadata": {},
     "output_type": "execute_result"
    }
   ],
   "source": [
    "max_find(12,100)"
   ]
  },
  {
   "cell_type": "code",
   "execution_count": 37,
   "metadata": {},
   "outputs": [
    {
     "data": {
      "text/plain": [
       "[47, 11, 42, 13]"
      ]
     },
     "execution_count": 37,
     "metadata": {},
     "output_type": "execute_result"
    }
   ],
   "source": [
    "lst"
   ]
  },
  {
   "cell_type": "code",
   "execution_count": 42,
   "metadata": {},
   "outputs": [],
   "source": [
    "def even_check(num):\n",
    "    if num % 2 ==0 :\n",
    "        return True\n",
    "    else:\n",
    "        return False"
   ]
  },
  {
   "cell_type": "code",
   "execution_count": 43,
   "metadata": {},
   "outputs": [
    {
     "data": {
      "text/plain": [
       "False"
      ]
     },
     "execution_count": 43,
     "metadata": {},
     "output_type": "execute_result"
    }
   ],
   "source": [
    "even_check(35)"
   ]
  },
  {
   "cell_type": "code",
   "execution_count": 47,
   "metadata": {},
   "outputs": [],
   "source": [
    "lst = range(10)"
   ]
  },
  {
   "cell_type": "code",
   "execution_count": 48,
   "metadata": {},
   "outputs": [
    {
     "data": {
      "text/plain": [
       "[0, 1, 2, 3, 4, 5, 6, 7, 8, 9]"
      ]
     },
     "execution_count": 48,
     "metadata": {},
     "output_type": "execute_result"
    }
   ],
   "source": [
    "lst"
   ]
  },
  {
   "cell_type": "code",
   "execution_count": 49,
   "metadata": {},
   "outputs": [
    {
     "data": {
      "text/plain": [
       "[0, 2, 4, 6, 8]"
      ]
     },
     "execution_count": 49,
     "metadata": {},
     "output_type": "execute_result"
    }
   ],
   "source": [
    "filter(even_check,lst)"
   ]
  },
  {
   "cell_type": "code",
   "execution_count": 50,
   "metadata": {},
   "outputs": [
    {
     "data": {
      "text/plain": [
       "[0, 2, 4, 6, 8]"
      ]
     },
     "execution_count": 50,
     "metadata": {},
     "output_type": "execute_result"
    }
   ],
   "source": [
    "filter(lambda num: num%2 == 0,lst)"
   ]
  },
  {
   "cell_type": "code",
   "execution_count": 52,
   "metadata": {},
   "outputs": [
    {
     "data": {
      "text/plain": [
       "[4, 5, 6, 7, 8, 9]"
      ]
     },
     "execution_count": 52,
     "metadata": {},
     "output_type": "execute_result"
    }
   ],
   "source": [
    "filter(lambda num: num>3,lst)"
   ]
  },
  {
   "cell_type": "code",
   "execution_count": 53,
   "metadata": {},
   "outputs": [],
   "source": [
    "x = [1,2,3]\n",
    "y = [4,5,6]"
   ]
  },
  {
   "cell_type": "code",
   "execution_count": 54,
   "metadata": {},
   "outputs": [
    {
     "data": {
      "text/plain": [
       "[(1, 4), (2, 5), (3, 6)]"
      ]
     },
     "execution_count": 54,
     "metadata": {},
     "output_type": "execute_result"
    }
   ],
   "source": [
    "zip(x,y)"
   ]
  },
  {
   "cell_type": "code",
   "execution_count": 55,
   "metadata": {},
   "outputs": [],
   "source": [
    "a = [1,2,3,4,5]\n",
    "b = [2,2,10,1,1]"
   ]
  },
  {
   "cell_type": "code",
   "execution_count": 56,
   "metadata": {},
   "outputs": [
    {
     "name": "stdout",
     "output_type": "stream",
     "text": [
      "2\n",
      "2\n",
      "10\n",
      "4\n",
      "5\n"
     ]
    }
   ],
   "source": [
    "for pair in zip(a,b):\n",
    "    print max(pair)"
   ]
  },
  {
   "cell_type": "code",
   "execution_count": 57,
   "metadata": {},
   "outputs": [
    {
     "data": {
      "text/plain": [
       "[2, 2, 10, 4, 5]"
      ]
     },
     "execution_count": 57,
     "metadata": {},
     "output_type": "execute_result"
    }
   ],
   "source": [
    "map (lambda pair: max(pair),zip(a,b))"
   ]
  },
  {
   "cell_type": "code",
   "execution_count": 58,
   "metadata": {},
   "outputs": [
    {
     "data": {
      "text/plain": [
       "[(1, 4), (2, 5), (3, 6)]"
      ]
     },
     "execution_count": 58,
     "metadata": {},
     "output_type": "execute_result"
    }
   ],
   "source": [
    "zip(x,y)"
   ]
  },
  {
   "cell_type": "code",
   "execution_count": 60,
   "metadata": {},
   "outputs": [],
   "source": [
    "d1 = {'a':1,'b':2}\n",
    "d2 = {'c':4,'d':5}"
   ]
  },
  {
   "cell_type": "code",
   "execution_count": 61,
   "metadata": {},
   "outputs": [
    {
     "data": {
      "text/plain": [
       "[('a', 'c'), ('b', 'd')]"
      ]
     },
     "execution_count": 61,
     "metadata": {},
     "output_type": "execute_result"
    }
   ],
   "source": [
    "zip(d1,d2)"
   ]
  },
  {
   "cell_type": "code",
   "execution_count": 62,
   "metadata": {},
   "outputs": [
    {
     "data": {
      "text/plain": [
       "[('c', 1), ('d', 2)]"
      ]
     },
     "execution_count": 62,
     "metadata": {},
     "output_type": "execute_result"
    }
   ],
   "source": [
    "zip(d2,d1.itervalues())"
   ]
  },
  {
   "cell_type": "code",
   "execution_count": 63,
   "metadata": {},
   "outputs": [],
   "source": [
    "def switchharoo(d1,d2):\n",
    "    dout = {}\n",
    "    \n",
    "    for d1key,d2val in zip(d1,d2.itervalues()):\n",
    "        dout[d1key]=d2val\n",
    "        \n",
    "    return dout"
   ]
  },
  {
   "cell_type": "code",
   "execution_count": 64,
   "metadata": {},
   "outputs": [
    {
     "data": {
      "text/plain": [
       "{'a': 1, 'b': 2}"
      ]
     },
     "execution_count": 64,
     "metadata": {},
     "output_type": "execute_result"
    }
   ],
   "source": [
    "d1"
   ]
  },
  {
   "cell_type": "code",
   "execution_count": 65,
   "metadata": {},
   "outputs": [
    {
     "data": {
      "text/plain": [
       "{'c': 4, 'd': 5}"
      ]
     },
     "execution_count": 65,
     "metadata": {},
     "output_type": "execute_result"
    }
   ],
   "source": [
    "d2"
   ]
  },
  {
   "cell_type": "code",
   "execution_count": 66,
   "metadata": {},
   "outputs": [
    {
     "data": {
      "text/plain": [
       "{'a': 4, 'b': 5}"
      ]
     },
     "execution_count": 66,
     "metadata": {},
     "output_type": "execute_result"
    }
   ],
   "source": [
    "switchharoo(d1,d2)"
   ]
  },
  {
   "cell_type": "code",
   "execution_count": 67,
   "metadata": {},
   "outputs": [],
   "source": [
    "l = ['a','b','c']"
   ]
  },
  {
   "cell_type": "code",
   "execution_count": 68,
   "metadata": {},
   "outputs": [
    {
     "name": "stdout",
     "output_type": "stream",
     "text": [
      "0\n",
      "a\n",
      "1\n",
      "b\n",
      "2\n",
      "c\n"
     ]
    }
   ],
   "source": [
    "count = 0\n",
    "for item in l:\n",
    "    print count\n",
    "    print item\n",
    "    count +=1"
   ]
  },
  {
   "cell_type": "code",
   "execution_count": 69,
   "metadata": {},
   "outputs": [
    {
     "name": "stdout",
     "output_type": "stream",
     "text": [
      "0\n",
      "a\n",
      "1\n",
      "b\n",
      "2\n",
      "c\n"
     ]
    }
   ],
   "source": [
    "for count,item in enumerate(l):\n",
    "    print(count)\n",
    "    print(item)"
   ]
  },
  {
   "cell_type": "code",
   "execution_count": 70,
   "metadata": {},
   "outputs": [
    {
     "name": "stdout",
     "output_type": "stream",
     "text": [
      "a\n",
      "b\n"
     ]
    }
   ],
   "source": [
    "for count,item in enumerate(l):\n",
    "    if count >=2:\n",
    "        break\n",
    "    else:\n",
    "        print item"
   ]
  },
  {
   "cell_type": "code",
   "execution_count": 71,
   "metadata": {},
   "outputs": [],
   "source": [
    "l = [True,True,False,False]"
   ]
  },
  {
   "cell_type": "code",
   "execution_count": 73,
   "metadata": {},
   "outputs": [
    {
     "data": {
      "text/plain": [
       "True"
      ]
     },
     "execution_count": 73,
     "metadata": {},
     "output_type": "execute_result"
    }
   ],
   "source": [
    "any(l)"
   ]
  },
  {
   "cell_type": "code",
   "execution_count": 74,
   "metadata": {},
   "outputs": [
    {
     "data": {
      "text/plain": [
       "(2+3j)"
      ]
     },
     "execution_count": 74,
     "metadata": {},
     "output_type": "execute_result"
    }
   ],
   "source": [
    "complex(2,3)"
   ]
  },
  {
   "cell_type": "code",
   "execution_count": 75,
   "metadata": {},
   "outputs": [
    {
     "data": {
      "text/plain": [
       "(10+1j)"
      ]
     },
     "execution_count": 75,
     "metadata": {},
     "output_type": "execute_result"
    }
   ],
   "source": [
    "complex(10,1)"
   ]
  },
  {
   "cell_type": "code",
   "execution_count": 76,
   "metadata": {},
   "outputs": [
    {
     "data": {
      "text/plain": [
       "(10+2j)"
      ]
     },
     "execution_count": 76,
     "metadata": {},
     "output_type": "execute_result"
    }
   ],
   "source": [
    "complex('10+2j')"
   ]
  },
  {
   "cell_type": "code",
   "execution_count": 77,
   "metadata": {},
   "outputs": [],
   "source": [
    "def func():\n",
    "    return 1"
   ]
  },
  {
   "cell_type": "code",
   "execution_count": 78,
   "metadata": {},
   "outputs": [
    {
     "data": {
      "text/plain": [
       "1"
      ]
     },
     "execution_count": 78,
     "metadata": {},
     "output_type": "execute_result"
    }
   ],
   "source": [
    "func()"
   ]
  },
  {
   "cell_type": "code",
   "execution_count": 82,
   "metadata": {},
   "outputs": [],
   "source": [
    "s = 'This is a global variable'\n",
    "def func():\n",
    "    print locals()"
   ]
  },
  {
   "cell_type": "code",
   "execution_count": 83,
   "metadata": {},
   "outputs": [
    {
     "data": {
      "text/plain": [
       "{'Animal': __main__.Animal,\n",
       " 'Book': __main__.Book,\n",
       " 'Dog': __main__.Dog,\n",
       " 'In': ['',\n",
       "  u'class Animal(object):\\n    \\n    def __init__(self):\\n        print \\'Animal Created\\'\\n        \\n    def whoAmI(self):\\n        print \"Animal\"\\n    def eat(self):\\n        print \"Eating\"',\n",
       "  u'class Dog(Animal):\\n    \\n    def __init__(self):\\n        Animal.__init__(self)\\n        print \"Dog created\"\\n        \\n    def whoAmI(self):\\n        print Dog\\n    \\n    def bark(self):\\n        print \"woof!\"',\n",
       "  u'd = Dog()',\n",
       "  u'd.whoAmI()',\n",
       "  u'class Dog(Animal):\\n    \\n    def __init__(self):\\n        Animal.__init__(self)\\n        print \"Dog created\"\\n        \\n    def whoAmI(self):\\n        print \\'Dog\\'\\n    \\n    def bark(self):\\n        print \"woof!\"',\n",
       "  u'd = Dog()',\n",
       "  u'd.whoAmI()',\n",
       "  u'calss Book(object):\\n    \\n    def __init__ (self,title,author,pages):\\n        \\n        print \"A book has been created\"\\n        self.title = title\\n        self.author = author\\n        self.pages = pages',\n",
       "  u'class Book(object):\\n    \\n    def __init__ (self,title,author,pages):\\n        \\n        print \"A book has been created\"\\n        self.title = title\\n        self.author = author\\n        self.pages = pages',\n",
       "  u'b = Book(\\'Python,\"Jose\",100)',\n",
       "  u'b = Book(\\'Python\\',\"Jose\",100)',\n",
       "  u'class Book(object):\\n    \\n    def __init__ (self,title,author,pages):\\n        \\n        print \"A book has been created\"\\n        self.title = title\\n        self.author = author\\n        self.pages = pages\\n    def __str__ (self):\\n        \\n        return \"Title: %s, Author: %s, pages %s\" %(self.title,self.author,self.pages)',\n",
       "  u'class Book(object):\\n    \\n    def __init__(self,title,author,pages):\\n        \\n        print \"A book has been created\"\\n        self.title = title\\n        self.author = author\\n        self.pages = pages\\n    def __str__(self):\\n        \\n        return \"Title: %s, Author: %s, pages %s\" %(self.title,self.author,self.pages)\\n    def __len__(self):\\n        return self.pages',\n",
       "  u'b = Book(\\'Python\\',\"Jose\",100)',\n",
       "  u'len(b)',\n",
       "  u'b.title',\n",
       "  u'del b',\n",
       "  u'import math',\n",
       "  u'math.sqrt(4)',\n",
       "  u'from math import sqrt',\n",
       "  u'sqrt(4)',\n",
       "  u'def fahrenheit(T):\\n    return (9.0/5)*T +32',\n",
       "  u'fahrenheit(0)',\n",
       "  u'temp = [0,22.5,40,100]',\n",
       "  u'map(fahrenheit,temp)',\n",
       "  u'map (lambda T: (9.0/5)*T +32,temp)',\n",
       "  u'lambda x,y: x+y',\n",
       "  u'a = [1,2,3]\\nb = [4,5,6]\\nc = [7,8,9]',\n",
       "  u'map(lambda x,y,z: x+y+z, a,b,c)',\n",
       "  u'map(lambda nem: num*-1,a)',\n",
       "  u'map(lambda num: num*-1,a)',\n",
       "  u'lst = [47,11,42,13]\\nreduce(lambda x,y:x+y,lst)',\n",
       "  u'max(lst)',\n",
       "  u'max_find = lambda a,b: a if (a>b) else b',\n",
       "  u'def max_find(a,b):\\n    if a > b:\\n        return a\\n    else:\\n        return b',\n",
       "  u'max_find(12,100)',\n",
       "  u'lst',\n",
       "  u'return(max_fing,lst)',\n",
       "  u'return(max_find,lst)',\n",
       "  u'def even_check(num):\\n    if num % 2 ==0 :\\n        return True',\n",
       "  u'even_check(35)',\n",
       "  u'def even_check(num):\\n    if num % 2 ==0 :\\n        return True\\n    else:\\n        return False',\n",
       "  u'even_check(35)',\n",
       "  u'lst = range(50)',\n",
       "  u'lst',\n",
       "  u'lst = range(10)',\n",
       "  u'lst = range(10)',\n",
       "  u'lst',\n",
       "  u'filter(even_check,lst)',\n",
       "  u'filter(lambda num: num%2 == 0,lst)',\n",
       "  u'filter(lambda num: num>3 == 0,lst)',\n",
       "  u'filter(lambda num: num>3,lst)',\n",
       "  u'x = [1,2,3]\\ny = [4,5,6]',\n",
       "  u'zip(x,y)',\n",
       "  u'a = [1,2,3,4,5]\\nb = [2,2,10,1,1]',\n",
       "  u'for pair in zip(a,b):\\n    print max(pair)',\n",
       "  u'map (lambda pair: max(pair),zip(a,b))',\n",
       "  u'zip(x,y)',\n",
       "  u\"d1 = {'a':1,'b',2}\\nd2 = {'c':4,'d': 5}\",\n",
       "  u\"d1 = {'a':1,'b':2}\\nd2 = {'c':4,'d':5}\",\n",
       "  u'zip(d1,d2)',\n",
       "  u'zip(d2,d1.itervalues())',\n",
       "  u'def switchharoo(d1,d2):\\n    dout = {}\\n    \\n    for d1key,d2val in zip(d1,d2.itervalues()):\\n        dout[d1key]=d2val\\n        \\n    return dout',\n",
       "  u'd1',\n",
       "  u'd2',\n",
       "  u'switchharoo(d1,d2)',\n",
       "  u\"l = ['a','b','c']\",\n",
       "  u'count = 0\\nfor item in l:\\n    print count\\n    print item\\n    count +=1',\n",
       "  u'for count,item in enumerate(l):\\n    print(count)\\n    print(item)',\n",
       "  u'for count,item in enumerate(l):\\n    if count >=2:\\n        break\\n    else:\\n        print item',\n",
       "  u'l = [True,True,False,False]',\n",
       "  u'any(1)',\n",
       "  u'any(l)',\n",
       "  u'complex(2,3)',\n",
       "  u'complex(10,1)',\n",
       "  u\"complex('10+2j')\",\n",
       "  u'def func():\\n    return 1',\n",
       "  u'func()',\n",
       "  u\"s = 'This is a global variable'\",\n",
       "  u\"s = 'This is a global variable'\\ndef func()\\nprint locals()\",\n",
       "  u'locals()\\nglobals()',\n",
       "  u\"s = 'This is a global variable'\\ndef func():\\n    print locals()\",\n",
       "  u'locals()\\nglobals()'],\n",
       " 'Out': {15: 100,\n",
       "  16: 'Python',\n",
       "  19: 2.0,\n",
       "  21: 2.0,\n",
       "  23: 32.0,\n",
       "  25: [32.0, 72.5, 104.0, 212.0],\n",
       "  26: [32.0, 72.5, 104.0, 212.0],\n",
       "  27: <function __main__.<lambda>>,\n",
       "  29: [12, 15, 18],\n",
       "  31: [-1, -2, -3],\n",
       "  32: 113,\n",
       "  33: 47,\n",
       "  36: 100,\n",
       "  37: [47, 11, 42, 13],\n",
       "  43: False,\n",
       "  45: [0,\n",
       "   1,\n",
       "   2,\n",
       "   3,\n",
       "   4,\n",
       "   5,\n",
       "   6,\n",
       "   7,\n",
       "   8,\n",
       "   9,\n",
       "   10,\n",
       "   11,\n",
       "   12,\n",
       "   13,\n",
       "   14,\n",
       "   15,\n",
       "   16,\n",
       "   17,\n",
       "   18,\n",
       "   19,\n",
       "   20,\n",
       "   21,\n",
       "   22,\n",
       "   23,\n",
       "   24,\n",
       "   25,\n",
       "   26,\n",
       "   27,\n",
       "   28,\n",
       "   29,\n",
       "   30,\n",
       "   31,\n",
       "   32,\n",
       "   33,\n",
       "   34,\n",
       "   35,\n",
       "   36,\n",
       "   37,\n",
       "   38,\n",
       "   39,\n",
       "   40,\n",
       "   41,\n",
       "   42,\n",
       "   43,\n",
       "   44,\n",
       "   45,\n",
       "   46,\n",
       "   47,\n",
       "   48,\n",
       "   49],\n",
       "  48: [0, 1, 2, 3, 4, 5, 6, 7, 8, 9],\n",
       "  49: [0, 2, 4, 6, 8],\n",
       "  50: [0, 2, 4, 6, 8],\n",
       "  51: [],\n",
       "  52: [4, 5, 6, 7, 8, 9],\n",
       "  54: [(1, 4), (2, 5), (3, 6)],\n",
       "  57: [2, 2, 10, 4, 5],\n",
       "  58: [(1, 4), (2, 5), (3, 6)],\n",
       "  61: [('a', 'c'), ('b', 'd')],\n",
       "  62: [('c', 1), ('d', 2)],\n",
       "  64: {'a': 1, 'b': 2},\n",
       "  65: {'c': 4, 'd': 5},\n",
       "  66: {'a': 4, 'b': 5},\n",
       "  73: True,\n",
       "  74: (2+3j),\n",
       "  75: (10+1j),\n",
       "  76: (10+2j),\n",
       "  78: 1,\n",
       "  81: {...}},\n",
       " '_': {...},\n",
       " '_15': 100,\n",
       " '_16': 'Python',\n",
       " '_19': 2.0,\n",
       " '_21': 2.0,\n",
       " '_23': 32.0,\n",
       " '_25': [32.0, 72.5, 104.0, 212.0],\n",
       " '_26': [32.0, 72.5, 104.0, 212.0],\n",
       " '_27': <function __main__.<lambda>>,\n",
       " '_29': [12, 15, 18],\n",
       " '_31': [-1, -2, -3],\n",
       " '_32': 113,\n",
       " '_33': 47,\n",
       " '_36': 100,\n",
       " '_37': [47, 11, 42, 13],\n",
       " '_43': False,\n",
       " '_45': [0,\n",
       "  1,\n",
       "  2,\n",
       "  3,\n",
       "  4,\n",
       "  5,\n",
       "  6,\n",
       "  7,\n",
       "  8,\n",
       "  9,\n",
       "  10,\n",
       "  11,\n",
       "  12,\n",
       "  13,\n",
       "  14,\n",
       "  15,\n",
       "  16,\n",
       "  17,\n",
       "  18,\n",
       "  19,\n",
       "  20,\n",
       "  21,\n",
       "  22,\n",
       "  23,\n",
       "  24,\n",
       "  25,\n",
       "  26,\n",
       "  27,\n",
       "  28,\n",
       "  29,\n",
       "  30,\n",
       "  31,\n",
       "  32,\n",
       "  33,\n",
       "  34,\n",
       "  35,\n",
       "  36,\n",
       "  37,\n",
       "  38,\n",
       "  39,\n",
       "  40,\n",
       "  41,\n",
       "  42,\n",
       "  43,\n",
       "  44,\n",
       "  45,\n",
       "  46,\n",
       "  47,\n",
       "  48,\n",
       "  49],\n",
       " '_48': [0, 1, 2, 3, 4, 5, 6, 7, 8, 9],\n",
       " '_49': [0, 2, 4, 6, 8],\n",
       " '_50': [0, 2, 4, 6, 8],\n",
       " '_51': [],\n",
       " '_52': [4, 5, 6, 7, 8, 9],\n",
       " '_54': [(1, 4), (2, 5), (3, 6)],\n",
       " '_57': [2, 2, 10, 4, 5],\n",
       " '_58': [(1, 4), (2, 5), (3, 6)],\n",
       " '_61': [('a', 'c'), ('b', 'd')],\n",
       " '_62': [('c', 1), ('d', 2)],\n",
       " '_64': {'a': 1, 'b': 2},\n",
       " '_65': {'c': 4, 'd': 5},\n",
       " '_66': {'a': 4, 'b': 5},\n",
       " '_73': True,\n",
       " '_74': (2+3j),\n",
       " '_75': (10+1j),\n",
       " '_76': (10+2j),\n",
       " '_78': 1,\n",
       " '_81': {...},\n",
       " '__': 1,\n",
       " '___': (10+2j),\n",
       " '__builtin__': <module '__builtin__' (built-in)>,\n",
       " '__builtins__': <module '__builtin__' (built-in)>,\n",
       " '__doc__': 'Automatically created module for IPython interactive environment',\n",
       " '__name__': '__main__',\n",
       " '__package__': None,\n",
       " '_dh': [u'/Users/wuchi/Documents/Python Self-learning'],\n",
       " '_i': u\"s = 'This is a global variable'\\ndef func():\\n    print locals()\",\n",
       " '_i1': u'class Animal(object):\\n    \\n    def __init__(self):\\n        print \\'Animal Created\\'\\n        \\n    def whoAmI(self):\\n        print \"Animal\"\\n    def eat(self):\\n        print \"Eating\"',\n",
       " '_i10': u'b = Book(\\'Python,\"Jose\",100)',\n",
       " '_i11': u'b = Book(\\'Python\\',\"Jose\",100)',\n",
       " '_i12': u'class Book(object):\\n    \\n    def __init__ (self,title,author,pages):\\n        \\n        print \"A book has been created\"\\n        self.title = title\\n        self.author = author\\n        self.pages = pages\\n    def __str__ (self):\\n        \\n        return \"Title: %s, Author: %s, pages %s\" %(self.title,self.author,self.pages)',\n",
       " '_i13': u'class Book(object):\\n    \\n    def __init__(self,title,author,pages):\\n        \\n        print \"A book has been created\"\\n        self.title = title\\n        self.author = author\\n        self.pages = pages\\n    def __str__(self):\\n        \\n        return \"Title: %s, Author: %s, pages %s\" %(self.title,self.author,self.pages)\\n    def __len__(self):\\n        return self.pages',\n",
       " '_i14': u'b = Book(\\'Python\\',\"Jose\",100)',\n",
       " '_i15': u'len(b)',\n",
       " '_i16': u'b.title',\n",
       " '_i17': u'del b',\n",
       " '_i18': u'import math',\n",
       " '_i19': u'math.sqrt(4)',\n",
       " '_i2': u'class Dog(Animal):\\n    \\n    def __init__(self):\\n        Animal.__init__(self)\\n        print \"Dog created\"\\n        \\n    def whoAmI(self):\\n        print Dog\\n    \\n    def bark(self):\\n        print \"woof!\"',\n",
       " '_i20': u'from math import sqrt',\n",
       " '_i21': u'sqrt(4)',\n",
       " '_i22': u'def fahrenheit(T):\\n    return (9.0/5)*T +32',\n",
       " '_i23': u'fahrenheit(0)',\n",
       " '_i24': u'temp = [0,22.5,40,100]',\n",
       " '_i25': u'map(fahrenheit,temp)',\n",
       " '_i26': u'map (lambda T: (9.0/5)*T +32,temp)',\n",
       " '_i27': u'lambda x,y: x+y',\n",
       " '_i28': u'a = [1,2,3]\\nb = [4,5,6]\\nc = [7,8,9]',\n",
       " '_i29': u'map(lambda x,y,z: x+y+z, a,b,c)',\n",
       " '_i3': u'd = Dog()',\n",
       " '_i30': u'map(lambda nem: num*-1,a)',\n",
       " '_i31': u'map(lambda num: num*-1,a)',\n",
       " '_i32': u'lst = [47,11,42,13]\\nreduce(lambda x,y:x+y,lst)',\n",
       " '_i33': u'max(lst)',\n",
       " '_i34': u'max_find = lambda a,b: a if (a>b) else b',\n",
       " '_i35': u'def max_find(a,b):\\n    if a > b:\\n        return a\\n    else:\\n        return b',\n",
       " '_i36': u'max_find(12,100)',\n",
       " '_i37': u'lst',\n",
       " '_i38': u'return(max_fing,lst)',\n",
       " '_i39': u'return(max_find,lst)',\n",
       " '_i4': u'd.whoAmI()',\n",
       " '_i40': u'def even_check(num):\\n    if num % 2 ==0 :\\n        return True',\n",
       " '_i41': u'even_check(35)',\n",
       " '_i42': u'def even_check(num):\\n    if num % 2 ==0 :\\n        return True\\n    else:\\n        return False',\n",
       " '_i43': u'even_check(35)',\n",
       " '_i44': u'lst = range(50)',\n",
       " '_i45': u'lst',\n",
       " '_i46': u'lst = range(10)',\n",
       " '_i47': u'lst = range(10)',\n",
       " '_i48': u'lst',\n",
       " '_i49': u'filter(even_check,lst)',\n",
       " '_i5': u'class Dog(Animal):\\n    \\n    def __init__(self):\\n        Animal.__init__(self)\\n        print \"Dog created\"\\n        \\n    def whoAmI(self):\\n        print \\'Dog\\'\\n    \\n    def bark(self):\\n        print \"woof!\"',\n",
       " '_i50': u'filter(lambda num: num%2 == 0,lst)',\n",
       " '_i51': u'filter(lambda num: num>3 == 0,lst)',\n",
       " '_i52': u'filter(lambda num: num>3,lst)',\n",
       " '_i53': u'x = [1,2,3]\\ny = [4,5,6]',\n",
       " '_i54': u'zip(x,y)',\n",
       " '_i55': u'a = [1,2,3,4,5]\\nb = [2,2,10,1,1]',\n",
       " '_i56': u'for pair in zip(a,b):\\n    print max(pair)',\n",
       " '_i57': u'map (lambda pair: max(pair),zip(a,b))',\n",
       " '_i58': u'zip(x,y)',\n",
       " '_i59': u\"d1 = {'a':1,'b',2}\\nd2 = {'c':4,'d': 5}\",\n",
       " '_i6': u'd = Dog()',\n",
       " '_i60': u\"d1 = {'a':1,'b':2}\\nd2 = {'c':4,'d':5}\",\n",
       " '_i61': u'zip(d1,d2)',\n",
       " '_i62': u'zip(d2,d1.itervalues())',\n",
       " '_i63': u'def switchharoo(d1,d2):\\n    dout = {}\\n    \\n    for d1key,d2val in zip(d1,d2.itervalues()):\\n        dout[d1key]=d2val\\n        \\n    return dout',\n",
       " '_i64': u'd1',\n",
       " '_i65': u'd2',\n",
       " '_i66': u'switchharoo(d1,d2)',\n",
       " '_i67': u\"l = ['a','b','c']\",\n",
       " '_i68': u'count = 0\\nfor item in l:\\n    print count\\n    print item\\n    count +=1',\n",
       " '_i69': u'for count,item in enumerate(l):\\n    print(count)\\n    print(item)',\n",
       " '_i7': u'd.whoAmI()',\n",
       " '_i70': u'for count,item in enumerate(l):\\n    if count >=2:\\n        break\\n    else:\\n        print item',\n",
       " '_i71': u'l = [True,True,False,False]',\n",
       " '_i72': u'any(1)',\n",
       " '_i73': u'any(l)',\n",
       " '_i74': u'complex(2,3)',\n",
       " '_i75': u'complex(10,1)',\n",
       " '_i76': u\"complex('10+2j')\",\n",
       " '_i77': u'def func():\\n    return 1',\n",
       " '_i78': u'func()',\n",
       " '_i79': u\"s = 'This is a global variable'\",\n",
       " '_i8': u'calss Book(object):\\n    \\n    def __init__ (self,title,author,pages):\\n        \\n        print \"A book has been created\"\\n        self.title = title\\n        self.author = author\\n        self.pages = pages',\n",
       " '_i80': u\"s = 'This is a global variable'\\ndef func()\\nprint locals()\",\n",
       " '_i81': u'locals()\\nglobals()',\n",
       " '_i82': u\"s = 'This is a global variable'\\ndef func():\\n    print locals()\",\n",
       " '_i83': u'locals()\\nglobals()',\n",
       " '_i9': u'class Book(object):\\n    \\n    def __init__ (self,title,author,pages):\\n        \\n        print \"A book has been created\"\\n        self.title = title\\n        self.author = author\\n        self.pages = pages',\n",
       " '_ih': ['',\n",
       "  u'class Animal(object):\\n    \\n    def __init__(self):\\n        print \\'Animal Created\\'\\n        \\n    def whoAmI(self):\\n        print \"Animal\"\\n    def eat(self):\\n        print \"Eating\"',\n",
       "  u'class Dog(Animal):\\n    \\n    def __init__(self):\\n        Animal.__init__(self)\\n        print \"Dog created\"\\n        \\n    def whoAmI(self):\\n        print Dog\\n    \\n    def bark(self):\\n        print \"woof!\"',\n",
       "  u'd = Dog()',\n",
       "  u'd.whoAmI()',\n",
       "  u'class Dog(Animal):\\n    \\n    def __init__(self):\\n        Animal.__init__(self)\\n        print \"Dog created\"\\n        \\n    def whoAmI(self):\\n        print \\'Dog\\'\\n    \\n    def bark(self):\\n        print \"woof!\"',\n",
       "  u'd = Dog()',\n",
       "  u'd.whoAmI()',\n",
       "  u'calss Book(object):\\n    \\n    def __init__ (self,title,author,pages):\\n        \\n        print \"A book has been created\"\\n        self.title = title\\n        self.author = author\\n        self.pages = pages',\n",
       "  u'class Book(object):\\n    \\n    def __init__ (self,title,author,pages):\\n        \\n        print \"A book has been created\"\\n        self.title = title\\n        self.author = author\\n        self.pages = pages',\n",
       "  u'b = Book(\\'Python,\"Jose\",100)',\n",
       "  u'b = Book(\\'Python\\',\"Jose\",100)',\n",
       "  u'class Book(object):\\n    \\n    def __init__ (self,title,author,pages):\\n        \\n        print \"A book has been created\"\\n        self.title = title\\n        self.author = author\\n        self.pages = pages\\n    def __str__ (self):\\n        \\n        return \"Title: %s, Author: %s, pages %s\" %(self.title,self.author,self.pages)',\n",
       "  u'class Book(object):\\n    \\n    def __init__(self,title,author,pages):\\n        \\n        print \"A book has been created\"\\n        self.title = title\\n        self.author = author\\n        self.pages = pages\\n    def __str__(self):\\n        \\n        return \"Title: %s, Author: %s, pages %s\" %(self.title,self.author,self.pages)\\n    def __len__(self):\\n        return self.pages',\n",
       "  u'b = Book(\\'Python\\',\"Jose\",100)',\n",
       "  u'len(b)',\n",
       "  u'b.title',\n",
       "  u'del b',\n",
       "  u'import math',\n",
       "  u'math.sqrt(4)',\n",
       "  u'from math import sqrt',\n",
       "  u'sqrt(4)',\n",
       "  u'def fahrenheit(T):\\n    return (9.0/5)*T +32',\n",
       "  u'fahrenheit(0)',\n",
       "  u'temp = [0,22.5,40,100]',\n",
       "  u'map(fahrenheit,temp)',\n",
       "  u'map (lambda T: (9.0/5)*T +32,temp)',\n",
       "  u'lambda x,y: x+y',\n",
       "  u'a = [1,2,3]\\nb = [4,5,6]\\nc = [7,8,9]',\n",
       "  u'map(lambda x,y,z: x+y+z, a,b,c)',\n",
       "  u'map(lambda nem: num*-1,a)',\n",
       "  u'map(lambda num: num*-1,a)',\n",
       "  u'lst = [47,11,42,13]\\nreduce(lambda x,y:x+y,lst)',\n",
       "  u'max(lst)',\n",
       "  u'max_find = lambda a,b: a if (a>b) else b',\n",
       "  u'def max_find(a,b):\\n    if a > b:\\n        return a\\n    else:\\n        return b',\n",
       "  u'max_find(12,100)',\n",
       "  u'lst',\n",
       "  u'return(max_fing,lst)',\n",
       "  u'return(max_find,lst)',\n",
       "  u'def even_check(num):\\n    if num % 2 ==0 :\\n        return True',\n",
       "  u'even_check(35)',\n",
       "  u'def even_check(num):\\n    if num % 2 ==0 :\\n        return True\\n    else:\\n        return False',\n",
       "  u'even_check(35)',\n",
       "  u'lst = range(50)',\n",
       "  u'lst',\n",
       "  u'lst = range(10)',\n",
       "  u'lst = range(10)',\n",
       "  u'lst',\n",
       "  u'filter(even_check,lst)',\n",
       "  u'filter(lambda num: num%2 == 0,lst)',\n",
       "  u'filter(lambda num: num>3 == 0,lst)',\n",
       "  u'filter(lambda num: num>3,lst)',\n",
       "  u'x = [1,2,3]\\ny = [4,5,6]',\n",
       "  u'zip(x,y)',\n",
       "  u'a = [1,2,3,4,5]\\nb = [2,2,10,1,1]',\n",
       "  u'for pair in zip(a,b):\\n    print max(pair)',\n",
       "  u'map (lambda pair: max(pair),zip(a,b))',\n",
       "  u'zip(x,y)',\n",
       "  u\"d1 = {'a':1,'b',2}\\nd2 = {'c':4,'d': 5}\",\n",
       "  u\"d1 = {'a':1,'b':2}\\nd2 = {'c':4,'d':5}\",\n",
       "  u'zip(d1,d2)',\n",
       "  u'zip(d2,d1.itervalues())',\n",
       "  u'def switchharoo(d1,d2):\\n    dout = {}\\n    \\n    for d1key,d2val in zip(d1,d2.itervalues()):\\n        dout[d1key]=d2val\\n        \\n    return dout',\n",
       "  u'd1',\n",
       "  u'd2',\n",
       "  u'switchharoo(d1,d2)',\n",
       "  u\"l = ['a','b','c']\",\n",
       "  u'count = 0\\nfor item in l:\\n    print count\\n    print item\\n    count +=1',\n",
       "  u'for count,item in enumerate(l):\\n    print(count)\\n    print(item)',\n",
       "  u'for count,item in enumerate(l):\\n    if count >=2:\\n        break\\n    else:\\n        print item',\n",
       "  u'l = [True,True,False,False]',\n",
       "  u'any(1)',\n",
       "  u'any(l)',\n",
       "  u'complex(2,3)',\n",
       "  u'complex(10,1)',\n",
       "  u\"complex('10+2j')\",\n",
       "  u'def func():\\n    return 1',\n",
       "  u'func()',\n",
       "  u\"s = 'This is a global variable'\",\n",
       "  u\"s = 'This is a global variable'\\ndef func()\\nprint locals()\",\n",
       "  u'locals()\\nglobals()',\n",
       "  u\"s = 'This is a global variable'\\ndef func():\\n    print locals()\",\n",
       "  u'locals()\\nglobals()'],\n",
       " '_ii': u'locals()\\nglobals()',\n",
       " '_iii': u\"s = 'This is a global variable'\\ndef func()\\nprint locals()\",\n",
       " '_oh': {15: 100,\n",
       "  16: 'Python',\n",
       "  19: 2.0,\n",
       "  21: 2.0,\n",
       "  23: 32.0,\n",
       "  25: [32.0, 72.5, 104.0, 212.0],\n",
       "  26: [32.0, 72.5, 104.0, 212.0],\n",
       "  27: <function __main__.<lambda>>,\n",
       "  29: [12, 15, 18],\n",
       "  31: [-1, -2, -3],\n",
       "  32: 113,\n",
       "  33: 47,\n",
       "  36: 100,\n",
       "  37: [47, 11, 42, 13],\n",
       "  43: False,\n",
       "  45: [0,\n",
       "   1,\n",
       "   2,\n",
       "   3,\n",
       "   4,\n",
       "   5,\n",
       "   6,\n",
       "   7,\n",
       "   8,\n",
       "   9,\n",
       "   10,\n",
       "   11,\n",
       "   12,\n",
       "   13,\n",
       "   14,\n",
       "   15,\n",
       "   16,\n",
       "   17,\n",
       "   18,\n",
       "   19,\n",
       "   20,\n",
       "   21,\n",
       "   22,\n",
       "   23,\n",
       "   24,\n",
       "   25,\n",
       "   26,\n",
       "   27,\n",
       "   28,\n",
       "   29,\n",
       "   30,\n",
       "   31,\n",
       "   32,\n",
       "   33,\n",
       "   34,\n",
       "   35,\n",
       "   36,\n",
       "   37,\n",
       "   38,\n",
       "   39,\n",
       "   40,\n",
       "   41,\n",
       "   42,\n",
       "   43,\n",
       "   44,\n",
       "   45,\n",
       "   46,\n",
       "   47,\n",
       "   48,\n",
       "   49],\n",
       "  48: [0, 1, 2, 3, 4, 5, 6, 7, 8, 9],\n",
       "  49: [0, 2, 4, 6, 8],\n",
       "  50: [0, 2, 4, 6, 8],\n",
       "  51: [],\n",
       "  52: [4, 5, 6, 7, 8, 9],\n",
       "  54: [(1, 4), (2, 5), (3, 6)],\n",
       "  57: [2, 2, 10, 4, 5],\n",
       "  58: [(1, 4), (2, 5), (3, 6)],\n",
       "  61: [('a', 'c'), ('b', 'd')],\n",
       "  62: [('c', 1), ('d', 2)],\n",
       "  64: {'a': 1, 'b': 2},\n",
       "  65: {'c': 4, 'd': 5},\n",
       "  66: {'a': 4, 'b': 5},\n",
       "  73: True,\n",
       "  74: (2+3j),\n",
       "  75: (10+1j),\n",
       "  76: (10+2j),\n",
       "  78: 1,\n",
       "  81: {...}},\n",
       " '_sh': <module 'IPython.core.shadowns' from '/Users/wuchi/anaconda3/envs/py27/lib/python2.7/site-packages/IPython/core/shadowns.pyc'>,\n",
       " 'a': [1, 2, 3, 4, 5],\n",
       " 'b': [2, 2, 10, 1, 1],\n",
       " 'c': [7, 8, 9],\n",
       " 'count': 2,\n",
       " 'd': <__main__.Dog at 0x102dd89d0>,\n",
       " 'd1': {'a': 1, 'b': 2},\n",
       " 'd2': {'c': 4, 'd': 5},\n",
       " 'even_check': <function __main__.even_check>,\n",
       " 'exit': <IPython.core.autocall.ZMQExitAutocall at 0x102a61250>,\n",
       " 'fahrenheit': <function __main__.fahrenheit>,\n",
       " 'func': <function __main__.func>,\n",
       " 'get_ipython': <bound method ZMQInteractiveShell.get_ipython of <ipykernel.zmqshell.ZMQInteractiveShell object at 0x102905a90>>,\n",
       " 'item': 'c',\n",
       " 'l': [True, True, False, False],\n",
       " 'lst': [0, 1, 2, 3, 4, 5, 6, 7, 8, 9],\n",
       " 'math': <module 'math' from '/Users/wuchi/anaconda3/envs/py27/lib/python2.7/lib-dynload/math.so'>,\n",
       " 'max_find': <function __main__.max_find>,\n",
       " 'pair': (5, 1),\n",
       " 'quit': <IPython.core.autocall.ZMQExitAutocall at 0x102a61250>,\n",
       " 's': 'This is a global variable',\n",
       " 'sqrt': <function math.sqrt>,\n",
       " 'switchharoo': <function __main__.switchharoo>,\n",
       " 'temp': [0, 22.5, 40, 100],\n",
       " 'x': [1, 2, 3],\n",
       " 'y': [4, 5, 6]}"
      ]
     },
     "execution_count": 83,
     "metadata": {},
     "output_type": "execute_result"
    }
   ],
   "source": [
    "locals()\n",
    "globals()"
   ]
  },
  {
   "cell_type": "code",
   "execution_count": 84,
   "metadata": {},
   "outputs": [
    {
     "name": "stdout",
     "output_type": "stream",
     "text": [
      "This is a global variable\n"
     ]
    }
   ],
   "source": [
    "print globals()['s']"
   ]
  },
  {
   "cell_type": "code",
   "execution_count": 86,
   "metadata": {},
   "outputs": [
    {
     "name": "stdout",
     "output_type": "stream",
     "text": [
      "{}\n"
     ]
    }
   ],
   "source": [
    "func()"
   ]
  },
  {
   "cell_type": "code",
   "execution_count": 88,
   "metadata": {},
   "outputs": [],
   "source": [
    "def hello(name = 'Jose'):\n",
    "    return 'hello' + name"
   ]
  },
  {
   "cell_type": "code",
   "execution_count": 89,
   "metadata": {},
   "outputs": [
    {
     "data": {
      "text/plain": [
       "'helloJose'"
      ]
     },
     "execution_count": 89,
     "metadata": {},
     "output_type": "execute_result"
    }
   ],
   "source": [
    "hello()"
   ]
  },
  {
   "cell_type": "code",
   "execution_count": 90,
   "metadata": {},
   "outputs": [],
   "source": [
    "greet = hello"
   ]
  },
  {
   "cell_type": "code",
   "execution_count": 91,
   "metadata": {},
   "outputs": [
    {
     "data": {
      "text/plain": [
       "'helloJose'"
      ]
     },
     "execution_count": 91,
     "metadata": {},
     "output_type": "execute_result"
    }
   ],
   "source": [
    "greet()"
   ]
  },
  {
   "cell_type": "code",
   "execution_count": 92,
   "metadata": {},
   "outputs": [],
   "source": [
    "del hello"
   ]
  },
  {
   "cell_type": "code",
   "execution_count": 93,
   "metadata": {},
   "outputs": [
    {
     "ename": "NameError",
     "evalue": "name 'hello' is not defined",
     "output_type": "error",
     "traceback": [
      "\u001b[0;31m---------------------------------------------------------------------------\u001b[0m",
      "\u001b[0;31mNameError\u001b[0m                                 Traceback (most recent call last)",
      "\u001b[0;32m<ipython-input-93-a75d7781aaeb>\u001b[0m in \u001b[0;36m<module>\u001b[0;34m()\u001b[0m\n\u001b[0;32m----> 1\u001b[0;31m \u001b[0mhello\u001b[0m\u001b[0;34m(\u001b[0m\u001b[0;34m)\u001b[0m\u001b[0;34m\u001b[0m\u001b[0m\n\u001b[0m",
      "\u001b[0;31mNameError\u001b[0m: name 'hello' is not defined"
     ]
    }
   ],
   "source": [
    "hello()"
   ]
  },
  {
   "cell_type": "code",
   "execution_count": 96,
   "metadata": {},
   "outputs": [],
   "source": [
    "def hello(name = 'Jose'):\n",
    "    \n",
    "    print 'The hello() function has been executed'\n",
    "    \n",
    "    def greet():\n",
    "        return '\\t This is inside the greet() function'\n",
    "    def welcome():\n",
    "        \n",
    "        return '\\t This is inside the welcome function'\n",
    "    print greet()\n",
    "    print welcome()\n",
    "    print 'Now we are back'\n",
    "    "
   ]
  },
  {
   "cell_type": "code",
   "execution_count": 97,
   "metadata": {},
   "outputs": [
    {
     "name": "stdout",
     "output_type": "stream",
     "text": [
      "The hello() function has been executed\n",
      "\t This is inside the greet() function\n",
      "\t This is inside the welcome function\n",
      "Now we are back\n"
     ]
    }
   ],
   "source": [
    "hello()"
   ]
  },
  {
   "cell_type": "code",
   "execution_count": 98,
   "metadata": {},
   "outputs": [],
   "source": [
    "def hello(name = 'Jose'):\n",
    "    \n",
    "    print 'The hello() function has been executed'\n",
    "    \n",
    "    def greet():\n",
    "        return '\\t This is inside the greet() function'\n",
    "    def welcome():\n",
    "        \n",
    "        return '\\t This is inside the welcome function'\n",
    "    \n",
    "    if name == 'Jose':\n",
    "        return greet\n",
    "    else:\n",
    "        return welcome\n",
    "    "
   ]
  },
  {
   "cell_type": "code",
   "execution_count": 99,
   "metadata": {},
   "outputs": [
    {
     "name": "stdout",
     "output_type": "stream",
     "text": [
      "The hello() function has been executed\n"
     ]
    }
   ],
   "source": [
    "x = hello()"
   ]
  },
  {
   "cell_type": "code",
   "execution_count": 100,
   "metadata": {},
   "outputs": [
    {
     "data": {
      "text/plain": [
       "<function __main__.greet>"
      ]
     },
     "execution_count": 100,
     "metadata": {},
     "output_type": "execute_result"
    }
   ],
   "source": [
    "x"
   ]
  },
  {
   "cell_type": "code",
   "execution_count": 101,
   "metadata": {},
   "outputs": [
    {
     "name": "stdout",
     "output_type": "stream",
     "text": [
      "\t This is inside the greet() function\n"
     ]
    }
   ],
   "source": [
    "print x()"
   ]
  },
  {
   "cell_type": "code",
   "execution_count": 102,
   "metadata": {},
   "outputs": [],
   "source": [
    "def hello():\n",
    "    return 'Hello Jose!'"
   ]
  },
  {
   "cell_type": "code",
   "execution_count": 103,
   "metadata": {},
   "outputs": [],
   "source": [
    "def other(func):\n",
    "    print 'Other code goes here!'\n",
    "    print func()"
   ]
  },
  {
   "cell_type": "code",
   "execution_count": 104,
   "metadata": {},
   "outputs": [],
   "source": [
    "def new_decorator(func):\n",
    "    \n",
    "    def wrap_func():\n",
    "        print 'Code here, before executing the finc'\n",
    "        \n",
    "        func()\n",
    "        \n",
    "        print 'Code here will executure after the func()'\n",
    "        \n",
    "    return wrap_func()\n"
   ]
  },
  {
   "cell_type": "code",
   "execution_count": 105,
   "metadata": {},
   "outputs": [],
   "source": [
    "def func_needs_decorator():\n",
    "    print 'This function needs a decorator'"
   ]
  },
  {
   "cell_type": "code",
   "execution_count": 106,
   "metadata": {},
   "outputs": [
    {
     "name": "stdout",
     "output_type": "stream",
     "text": [
      "This function needs a decorator\n"
     ]
    }
   ],
   "source": [
    "func_needs_decorator()"
   ]
  },
  {
   "cell_type": "code",
   "execution_count": 107,
   "metadata": {},
   "outputs": [
    {
     "name": "stdout",
     "output_type": "stream",
     "text": [
      "Code here, before executing the finc\n",
      "This function needs a decorator\n",
      "Code here will executure after the func()\n"
     ]
    }
   ],
   "source": [
    "func_needs_decorator = new_decorator(func_needs_decorator)"
   ]
  },
  {
   "cell_type": "code",
   "execution_count": 109,
   "metadata": {},
   "outputs": [
    {
     "name": "stdout",
     "output_type": "stream",
     "text": [
      "Code here, before executing the finc\n",
      "This function needs a decorator!\n",
      "Code here will executure after the func()\n"
     ]
    }
   ],
   "source": [
    "@new_decorator\n",
    "def func_needs_decorator():\n",
    "    print 'This function needs a decorator!'"
   ]
  },
  {
   "cell_type": "code",
   "execution_count": 114,
   "metadata": {},
   "outputs": [],
   "source": [
    "def gencubes(n):\n",
    "    out = []\n",
    "    for num in range(n):\n",
    "        out.append(num**2)\n",
    "    return out"
   ]
  },
  {
   "cell_type": "code",
   "execution_count": 115,
   "metadata": {},
   "outputs": [
    {
     "name": "stdout",
     "output_type": "stream",
     "text": [
      "0\n",
      "1\n",
      "4\n",
      "9\n",
      "16\n",
      "25\n",
      "36\n",
      "49\n",
      "64\n",
      "81\n"
     ]
    }
   ],
   "source": [
    "for x in gencubes(10):\n",
    "    print x "
   ]
  },
  {
   "cell_type": "code",
   "execution_count": 116,
   "metadata": {},
   "outputs": [],
   "source": [
    "def genfibon(n):\n",
    "    a =1\n",
    "    b =1\n",
    "    \n",
    "    for i in range(n):\n",
    "        \n",
    "        yield a\n",
    "        \n",
    "        a = b\n",
    "        b = a+b"
   ]
  },
  {
   "cell_type": "code",
   "execution_count": 117,
   "metadata": {},
   "outputs": [
    {
     "name": "stdout",
     "output_type": "stream",
     "text": [
      "1\n",
      "1\n",
      "2\n",
      "4\n",
      "8\n",
      "16\n",
      "32\n",
      "64\n",
      "128\n",
      "256\n"
     ]
    }
   ],
   "source": [
    "for num in genfibon(10):\n",
    "    print num"
   ]
  },
  {
   "cell_type": "code",
   "execution_count": 118,
   "metadata": {},
   "outputs": [],
   "source": [
    "def fibon(n):\n",
    "    a = 1\n",
    "    b = 1\n",
    "    output = []\n",
    "    \n",
    "    for i in range(n):\n",
    "        output.append(a)\n",
    "        a,b = b, a+b\n",
    "    return output"
   ]
  },
  {
   "cell_type": "code",
   "execution_count": 119,
   "metadata": {},
   "outputs": [
    {
     "data": {
      "text/plain": [
       "[1, 1, 2, 3, 5, 8, 13, 21, 34, 55]"
      ]
     },
     "execution_count": 119,
     "metadata": {},
     "output_type": "execute_result"
    }
   ],
   "source": [
    "fibon(10)"
   ]
  },
  {
   "cell_type": "code",
   "execution_count": 120,
   "metadata": {},
   "outputs": [],
   "source": [
    "def simple_gen():\n",
    "    for x in range(3):\n",
    "        yield x"
   ]
  },
  {
   "cell_type": "code",
   "execution_count": 121,
   "metadata": {},
   "outputs": [],
   "source": [
    "g = simple_gen()"
   ]
  },
  {
   "cell_type": "code",
   "execution_count": 122,
   "metadata": {},
   "outputs": [
    {
     "name": "stdout",
     "output_type": "stream",
     "text": [
      "0\n"
     ]
    }
   ],
   "source": [
    "print next(g)"
   ]
  },
  {
   "cell_type": "code",
   "execution_count": 123,
   "metadata": {},
   "outputs": [
    {
     "name": "stdout",
     "output_type": "stream",
     "text": [
      "1\n"
     ]
    }
   ],
   "source": [
    "print next(g)"
   ]
  },
  {
   "cell_type": "code",
   "execution_count": 124,
   "metadata": {},
   "outputs": [
    {
     "name": "stdout",
     "output_type": "stream",
     "text": [
      "2\n"
     ]
    }
   ],
   "source": [
    "print next(g)"
   ]
  },
  {
   "cell_type": "code",
   "execution_count": null,
   "metadata": {},
   "outputs": [],
   "source": []
  }
 ],
 "metadata": {
  "kernelspec": {
   "display_name": "Python 2",
   "language": "python",
   "name": "python2"
  },
  "language_info": {
   "codemirror_mode": {
    "name": "ipython",
    "version": 2
   },
   "file_extension": ".py",
   "mimetype": "text/x-python",
   "name": "python",
   "nbconvert_exporter": "python",
   "pygments_lexer": "ipython2",
   "version": "2.7.16"
  }
 },
 "nbformat": 4,
 "nbformat_minor": 2
}
