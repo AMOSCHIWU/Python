{
 "cells": [
  {
   "cell_type": "code",
   "execution_count": 13,
   "metadata": {},
   "outputs": [],
   "source": [
    "import random\n",
    "\n",
    "def merge(lst0, lst1):\n",
    "    ret = []\n",
    "    while lst0 and lst1:\n",
    "        if lst0[0] <= lst1[0]:\n",
    "            ret.append(lst0.pop(0))\n",
    "        else:\n",
    "            ret.append(lst1.pop(0))\n",
    "    ret.extend(lst0)\n",
    "    ret.extend(lst1)\n",
    "    return ret"
   ]
  },
  {
   "cell_type": "code",
   "execution_count": 10,
   "metadata": {},
   "outputs": [
    {
     "data": {
      "text/plain": [
       "[10, 20.5, 60, 59, 67, 34, 44, 59.9, 72, 61, 99]"
      ]
     },
     "execution_count": 10,
     "metadata": {},
     "output_type": "execute_result"
    }
   ],
   "source": [
    "merge([10,60,59,72,61],[20.5,67,34,44,59.9,99])"
   ]
  },
  {
   "cell_type": "code",
   "execution_count": 11,
   "metadata": {},
   "outputs": [],
   "source": [
    "def sort2(lst):\n",
    "    if len(lst) <= 1:\n",
    "        return lst\n",
    "    r = lst[random.randint(0, len(lst) - 1)]\n",
    "    left, mid, right = [], [], []\n",
    "    for i in lst:\n",
    "        if i < r:\n",
    "            left.append(i)\n",
    "        elif i == r:\n",
    "            mid.append(i)\n",
    "        else:\n",
    "            right.append(i)\n",
    "    left = sort2(left)\n",
    "    left.extend(mid)\n",
    "    right = sort2(right)\n",
    "    ret = merge(left, right)\n",
    "    return ret"
   ]
  },
  {
   "cell_type": "code",
   "execution_count": 12,
   "metadata": {},
   "outputs": [
    {
     "data": {
      "text/plain": [
       "[25, 26, 43, 45, 55, 67, 67, 68, 87]"
      ]
     },
     "execution_count": 12,
     "metadata": {},
     "output_type": "execute_result"
    }
   ],
   "source": [
    "sort2([25,67,87,43,26,67,45,55,68])"
   ]
  },
  {
   "cell_type": "code",
   "execution_count": 8,
   "metadata": {},
   "outputs": [
    {
     "data": {
      "text/plain": [
       "[25, 26, 43, 45, 55, 67, 67, 68, 87]"
      ]
     },
     "execution_count": 8,
     "metadata": {},
     "output_type": "execute_result"
    }
   ],
   "source": [
    "sort2([25,67,87,43,26,67,45,55,68])"
   ]
  },
  {
   "cell_type": "code",
   "execution_count": null,
   "metadata": {},
   "outputs": [],
   "source": []
  }
 ],
 "metadata": {
  "kernelspec": {
   "display_name": "Python 3",
   "language": "python",
   "name": "python3"
  },
  "language_info": {
   "codemirror_mode": {
    "name": "ipython",
    "version": 3
   },
   "file_extension": ".py",
   "mimetype": "text/x-python",
   "name": "python",
   "nbconvert_exporter": "python",
   "pygments_lexer": "ipython3",
   "version": "3.7.1"
  }
 },
 "nbformat": 4,
 "nbformat_minor": 2
}
